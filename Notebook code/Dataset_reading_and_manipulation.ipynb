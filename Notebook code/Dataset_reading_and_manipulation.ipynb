{
 "cells": [
  {
   "cell_type": "code",
   "execution_count": null,
   "metadata": {},
   "outputs": [],
   "source": [
    "class Dataset_reading_and_manipulation:\n",
    "    \n",
    "    def reading_dataset(self):\n",
    "        appsData = pd.read_excel(\"E:/PythonMiniProject_PlayStoreAppAnalysis/PlayStoreApps.xlsx\")\n",
    "        return appsData\n",
    "    \n",
    "    def data_manipulation(self):\n",
    "        appsData['Price'] = appsData['Price'].apply(lambda x: str(x).replace('$', '') if '$' in str(x) else str(x))\n",
    "        appsData['Price'] = appsData['Price'].apply(lambda x: float(x))\n",
    "        appsData['Installs'] = appsData['Installs'].apply(lambda x: str(x).replace('+', '') if '+' in str(x) else str(x))\n",
    "        appsData['Installs'] = appsData['Installs'].apply(lambda x: str(x).replace(',', '') if ',' in str(x) else str(x))\n",
    "        appsData['Installs'] = appsData['Installs'].apply(lambda x: float(x))\n",
    "        appsData[\"LatestVersion\"].fillna(str(appsData[\"LatestVersion\"].mode().values[0]), inplace = True)\n",
    "           \n",
    "    def grouping_elements_by_category(self):\n",
    "        category_elements = appsData.groupby('Category')\n",
    "        return category_elements\n",
    "    \n",
    "    def set_of_category_of_apps(self):\n",
    "        category_of_apps = set()\n",
    "        for i in appsData.Category:\n",
    "            category_of_apps.add(i)\n",
    "        return category_of_apps\n",
    "    \n",
    "    def total_no_of_apps_in_each_category(self):\n",
    "        no_of_apps_in_category = dict()\n",
    "        for i in category_of_apps:\n",
    "            no_of_apps_in_category[i] = len(appsData[appsData.Category == i])\n",
    "        return no_of_apps_in_category"
   ]
  }
 ],
 "metadata": {
  "kernelspec": {
   "display_name": "Python 3",
   "language": "python",
   "name": "python3"
  },
  "language_info": {
   "codemirror_mode": {
    "name": "ipython",
    "version": 3
   },
   "file_extension": ".py",
   "mimetype": "text/x-python",
   "name": "python",
   "nbconvert_exporter": "python",
   "pygments_lexer": "ipython3",
   "version": "3.8.3"
  }
 },
 "nbformat": 4,
 "nbformat_minor": 4
}
