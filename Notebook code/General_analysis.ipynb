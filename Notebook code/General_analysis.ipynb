{
 "cells": [
  {
   "cell_type": "code",
   "execution_count": null,
   "metadata": {},
   "outputs": [],
   "source": [
    "class General_analysis:\n",
    "    \n",
    "    def statistics_of_numerical_columns(self):\n",
    "        print(appsData.describe())\n",
    "           \n",
    "    def rating_boxplot(self):\n",
    "        appsData.boxplot(column = [\"Rating\"])\n",
    "        plt.show()\n",
    "            \n",
    "    def reviews_boxplot(self):\n",
    "        appsData.boxplot(column = [\"Reviews\"])\n",
    "        plt.show()\n",
    "           \n",
    "    def installs_boxplot(self):\n",
    "        appsData.boxplot(column = [\"Installs\"])\n",
    "        plt.show()\n",
    "           \n",
    "    def price_boxplot(self):\n",
    "        appsData.boxplot(column = [\"Price\"]) \n",
    "        plt.show()\n",
    "          \n",
    "    def rating_histogram(self):\n",
    "        appsData.hist(column = [\"Rating\"])\n",
    "           \n",
    "    def reviews_histogram(self):\n",
    "        appsData.hist(column = [\"Reviews\"])\n",
    "           \n",
    "    def installs_histogram(self):\n",
    "        appsData.hist(column = [\"Installs\"])\n",
    "          \n",
    "    def price_histogram(self):\n",
    "        appsData.hist(column = [\"Price\"])"
   ]
  }
 ],
 "metadata": {
  "kernelspec": {
   "display_name": "Python 3",
   "language": "python",
   "name": "python3"
  },
  "language_info": {
   "codemirror_mode": {
    "name": "ipython",
    "version": 3
   },
   "file_extension": ".py",
   "mimetype": "text/x-python",
   "name": "python",
   "nbconvert_exporter": "python",
   "pygments_lexer": "ipython3",
   "version": "3.8.3"
  }
 },
 "nbformat": 4,
 "nbformat_minor": 4
}
